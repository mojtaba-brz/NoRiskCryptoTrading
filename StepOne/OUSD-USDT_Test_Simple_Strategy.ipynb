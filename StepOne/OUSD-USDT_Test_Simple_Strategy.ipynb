{
 "cells": [
  {
   "cell_type": "code",
   "execution_count": 1,
   "id": "5f533881",
   "metadata": {},
   "outputs": [],
   "source": [
    "from kucoin.client import Market\n",
    "\n",
    "import numpy as np\n",
    "import matplotlib.pyplot as plt\n",
    "        "
   ]
  },
  {
   "cell_type": "code",
   "execution_count": 2,
   "id": "80b75667",
   "metadata": {},
   "outputs": [
    {
     "name": "stdout",
     "output_type": "stream",
     "text": [
      "sell_limit_1 = 1.0085043011273094\n",
      "buy_limit_1 = 0.987136897374563\n",
      "sell_limit_2 = 1.0191880030036826\n",
      "buy_limit_2 = 0.9764531954981899\n"
     ]
    }
   ],
   "source": [
    "# # Strategy Tester\n",
    "sym = \"OUSD-USDT\"\n",
    "market = Market(url = url)\n",
    "data = np.array(market.get_kline(symbol = sym, kline_type = \"1day\"), dtype = \"float\")\n",
    "\n",
    "close = np.flip(data[:,2])\n",
    "Open  = np.flip(data[:,2-1])\n",
    "high  = np.flip(data[:,2+1])\n",
    "low   = np.flip(data[:,2+2])\n",
    "\n",
    "sell_limit_1 = np.average(close) + np.std(close)\n",
    "buy_limit_1 = np.average(close) - np.std(close)\n",
    "\n",
    "sell_limit_2 = np.average(close) + 2*np.std(close)\n",
    "buy_limit_2 = np.average(close) -  2*np.std(close)"
   ]
  },
  {
   "cell_type": "code",
   "execution_count": 3,
   "id": "eae54277",
   "metadata": {},
   "outputs": [
    {
     "data": {
      "text/plain": [
       "0.9978205992509362"
      ]
     },
     "execution_count": 3,
     "metadata": {},
     "output_type": "execute_result"
    }
   ],
   "source": []
  },
  {
   "cell_type": "code",
   "execution_count": null,
   "id": "94d2f452",
   "metadata": {},
   "outputs": [],
   "source": []
  }
 ],
 "metadata": {
  "kernelspec": {
   "display_name": "Python 3 (ipykernel)",
   "language": "python",
   "name": "python3"
  },
  "language_info": {
   "codemirror_mode": {
    "name": "ipython",
    "version": 3
   },
   "file_extension": ".py",
   "mimetype": "text/x-python",
   "name": "python",
   "nbconvert_exporter": "python",
   "pygments_lexer": "ipython3",
   "version": "3.9.6"
  }
 },
 "nbformat": 4,
 "nbformat_minor": 5
}
